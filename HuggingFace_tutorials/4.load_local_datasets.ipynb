{
 "cells": [
  {
   "cell_type": "markdown",
   "metadata": {},
   "source": [
    "## Using dictionary build a dataset\n",
    "\n",
    "Cons:\n",
    "- Hard handle with large size dataset \n",
    "- There are certain requirements for `run time memory`"
   ]
  },
  {
   "cell_type": "code",
   "execution_count": 2,
   "metadata": {},
   "outputs": [
    {
     "data": {
      "text/plain": [
       "(Dataset({\n",
       "     features: ['name', 'age', 'teacher'],\n",
       "     num_rows: 2\n",
       " }),\n",
       " {'name': '小王', 'age': 12, 'teacher': '张老师'})"
      ]
     },
     "execution_count": 2,
     "metadata": {},
     "output_type": "execute_result"
    }
   ],
   "source": [
    "from datasets import Dataset\n",
    "\n",
    "#从一个字典创建数据集\n",
    "dataset = {'name': ['小王', '小李'], 'age': [12, 16], 'teacher': ['张老师', '马老师']}\n",
    "\n",
    "dataset = Dataset.from_dict(dataset)\n",
    "\n",
    "dataset, dataset[0]"
   ]
  },
  {
   "cell_type": "markdown",
   "metadata": {},
   "source": [
    "Pros:\n",
    "- using `yield()`"
   ]
  },
  {
   "cell_type": "code",
   "execution_count": 3,
   "metadata": {},
   "outputs": [
    {
     "name": "stderr",
     "output_type": "stream",
     "text": [
      "Generating train split: 2 examples [00:00, 2006.84 examples/s]\n"
     ]
    },
    {
     "data": {
      "text/plain": [
       "(Dataset({\n",
       "     features: ['name', 'age', 'teacher'],\n",
       "     num_rows: 2\n",
       " }),\n",
       " {'name': '小王', 'age': 12, 'teacher': '张老师'})"
      ]
     },
     "execution_count": 3,
     "metadata": {},
     "output_type": "execute_result"
    }
   ],
   "source": [
    "#使用一个函数生成数据集\n",
    "def f():\n",
    "    yield {'name': '小王', 'age': 12, 'teacher': '张老师'}\n",
    "    yield {'name': '小李', 'age': 16, 'teacher': '马老师'}\n",
    "\n",
    "\n",
    "dataset = Dataset.from_generator(f)\n",
    "\n",
    "dataset, dataset[0]"
   ]
  },
  {
   "cell_type": "markdown",
   "metadata": {},
   "source": [
    "## Wirte & Read dataset as CSV file"
   ]
  },
  {
   "cell_type": "code",
   "execution_count": 4,
   "metadata": {},
   "outputs": [
    {
     "name": "stderr",
     "output_type": "stream",
     "text": [
      "Creating CSV from Arrow format: 100%|██████████| 1/1 [00:00<00:00, 334.45ba/s]\n",
      "Generating train split: 2 examples [00:00, 501.62 examples/s]\n"
     ]
    },
    {
     "data": {
      "text/plain": [
       "(Dataset({\n",
       "     features: ['name', 'age', 'teacher'],\n",
       "     num_rows: 2\n",
       " }),\n",
       " {'name': '小王', 'age': 12, 'teacher': '张老师'})"
      ]
     },
     "execution_count": 4,
     "metadata": {},
     "output_type": "execute_result"
    }
   ],
   "source": [
    "from datasets import load_dataset\n",
    "\n",
    "#保存一个数据集为csv格式\n",
    "dataset.to_csv('dataset/sample.csv')\n",
    "\n",
    "#从csv文件创建数据集\n",
    "dataset = load_dataset('csv', data_files='dataset/sample.csv', split='train')\n",
    "\n",
    "dataset, dataset[0]"
   ]
  },
  {
   "cell_type": "markdown",
   "metadata": {},
   "source": [
    "## Wirte & Read dataset as JSON file"
   ]
  },
  {
   "cell_type": "code",
   "execution_count": 5,
   "metadata": {},
   "outputs": [
    {
     "name": "stderr",
     "output_type": "stream",
     "text": [
      "Creating json from Arrow format: 100%|██████████| 1/1 [00:00<00:00, 1003.42ba/s]\n",
      "Generating train split: 2 examples [00:00, 334.47 examples/s]\n"
     ]
    },
    {
     "data": {
      "text/plain": [
       "(Dataset({\n",
       "     features: ['name', 'age', 'teacher'],\n",
       "     num_rows: 2\n",
       " }),\n",
       " {'name': '小王', 'age': 12, 'teacher': '张老师'})"
      ]
     },
     "execution_count": 5,
     "metadata": {},
     "output_type": "execute_result"
    }
   ],
   "source": [
    "from datasets import load_dataset\n",
    "\n",
    "#保存一个数据集为json格式\n",
    "dataset.to_json('dataset/sample.json')\n",
    "\n",
    "#从json文件创建数据集\n",
    "dataset = load_dataset('json', data_files='dataset/sample.json', split='train')\n",
    "\n",
    "dataset, dataset[0]"
   ]
  }
 ],
 "metadata": {
  "kernelspec": {
   "display_name": "nlplearn",
   "language": "python",
   "name": "python3"
  },
  "language_info": {
   "codemirror_mode": {
    "name": "ipython",
    "version": 3
   },
   "file_extension": ".py",
   "mimetype": "text/x-python",
   "name": "python",
   "nbconvert_exporter": "python",
   "pygments_lexer": "ipython3",
   "version": "3.11.9"
  }
 },
 "nbformat": 4,
 "nbformat_minor": 2
}
