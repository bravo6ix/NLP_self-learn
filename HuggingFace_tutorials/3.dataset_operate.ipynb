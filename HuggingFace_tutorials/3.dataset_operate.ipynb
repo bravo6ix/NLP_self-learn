{
 "cells": [
  {
   "cell_type": "code",
   "execution_count": 1,
   "metadata": {},
   "outputs": [
    {
     "name": "stderr",
     "output_type": "stream",
     "text": [
      "c:\\Users\\Administrator\\anaconda3\\envs\\nlplearn\\Lib\\site-packages\\tqdm\\auto.py:21: TqdmWarning: IProgress not found. Please update jupyter and ipywidgets. See https://ipywidgets.readthedocs.io/en/stable/user_install.html\n",
      "  from .autonotebook import tqdm as notebook_tqdm\n"
     ]
    },
    {
     "data": {
      "text/plain": [
       "(DatasetDict({\n",
       "     train: Dataset({\n",
       "         features: ['text', 'label'],\n",
       "         num_rows: 9600\n",
       "     })\n",
       "     validation: Dataset({\n",
       "         features: ['text', 'label'],\n",
       "         num_rows: 1200\n",
       "     })\n",
       "     test: Dataset({\n",
       "         features: ['text', 'label'],\n",
       "         num_rows: 1200\n",
       "     })\n",
       " }),\n",
       " {'text': '选择珠江花园的原因就是方便，有电动扶梯直接到达海边，周围餐馆、食廊、商场、超市、摊位一应俱全。酒店装修一般，但还算整洁。 泳池在大堂的屋顶，因此很小，不过女儿倒是喜欢。 包的早餐是西式的，还算丰富。 服务吗，一般',\n",
       "  'label': 1})"
      ]
     },
     "execution_count": 1,
     "metadata": {},
     "output_type": "execute_result"
    }
   ],
   "source": [
    "from datasets import load_dataset\n",
    "\n",
    "#可用的数据集:https://huggingface.co/datasets\n",
    "\n",
    "#在线加载一个数据集\n",
    "dataset = load_dataset(path='lansinuote/ChnSentiCorp', name=None, split=None)\n",
    "\n",
    "dataset, dataset['train'][0]"
   ]
  },
  {
   "cell_type": "code",
   "execution_count": 2,
   "metadata": {},
   "outputs": [
    {
     "name": "stderr",
     "output_type": "stream",
     "text": [
      "Saving the dataset (1/1 shards): 100%|██████████| 9600/9600 [00:00<00:00, 2408068.80 examples/s]\n",
      "Saving the dataset (1/1 shards): 100%|██████████| 1200/1200 [00:00<00:00, 602053.21 examples/s]\n",
      "Saving the dataset (1/1 shards): 100%|██████████| 1200/1200 [00:00<00:00, 601837.24 examples/s]\n"
     ]
    }
   ],
   "source": [
    "#保存到本地\n",
    "\n",
    "dataset.save_to_disk('dataset/lansinuote/ChnSentiCorp')"
   ]
  },
  {
   "cell_type": "code",
   "execution_count": 3,
   "metadata": {},
   "outputs": [
    {
     "data": {
      "text/plain": [
       "(DatasetDict({\n",
       "     train: Dataset({\n",
       "         features: ['text', 'label'],\n",
       "         num_rows: 9600\n",
       "     })\n",
       "     validation: Dataset({\n",
       "         features: ['text', 'label'],\n",
       "         num_rows: 1200\n",
       "     })\n",
       "     test: Dataset({\n",
       "         features: ['text', 'label'],\n",
       "         num_rows: 1200\n",
       "     })\n",
       " }),\n",
       " {'text': '选择珠江花园的原因就是方便，有电动扶梯直接到达海边，周围餐馆、食廊、商场、超市、摊位一应俱全。酒店装修一般，但还算整洁。 泳池在大堂的屋顶，因此很小，不过女儿倒是喜欢。 包的早餐是西式的，还算丰富。 服务吗，一般',\n",
       "  'label': 1})"
      ]
     },
     "execution_count": 3,
     "metadata": {},
     "output_type": "execute_result"
    }
   ],
   "source": [
    "from datasets import load_from_disk\n",
    "\n",
    "#从本地加载\n",
    "dataset = load_from_disk('dataset/lansinuote/ChnSentiCorp')\n",
    "\n",
    "dataset, dataset['train'][0]"
   ]
  },
  {
   "cell_type": "code",
   "execution_count": 6,
   "metadata": {},
   "outputs": [
    {
     "data": {
      "text/plain": [
       "(DatasetDict({\n",
       "     train: Dataset({\n",
       "         features: ['text', 'new_column'],\n",
       "         num_rows: 9600\n",
       "     })\n",
       "     validation: Dataset({\n",
       "         features: ['text', 'new_column'],\n",
       "         num_rows: 1200\n",
       "     })\n",
       "     test: Dataset({\n",
       "         features: ['text', 'new_column'],\n",
       "         num_rows: 1200\n",
       "     })\n",
       " }),\n",
       " {'text': 'prefix_选择珠江花园的原因就是方便，有电动扶梯直接到达海边，周围餐馆、食廊、商场、超市、摊位一应俱全。酒店装修一般，但还算整洁。 泳池在大堂的屋顶，因此很小，不过女儿倒是喜欢。 包的早餐是西式的，还算丰富。 服务吗，一般',\n",
       "  'new_column': '选择珠江花'})"
      ]
     },
     "execution_count": 6,
     "metadata": {},
     "output_type": "execute_result"
    }
   ],
   "source": [
    "dataset = load_from_disk('dataset/lansinuote/ChnSentiCorp')\n",
    "\n",
    "\n",
    "#遍历每一条数据并进行处理\n",
    "def f(data):\n",
    "    #新增字段\n",
    "    data['new_column'] = data['text'][:5]\n",
    "\n",
    "    #删除字段\n",
    "    del data['label']\n",
    "\n",
    "    #修改字段\n",
    "    data['text'] = 'prefix_' + data['text']\n",
    "\n",
    "    return data\n",
    "\n",
    "\n",
    "dataset = dataset.map(f)\n",
    "\n",
    "dataset, dataset['train'][0]"
   ]
  },
  {
   "cell_type": "markdown",
   "metadata": {},
   "source": [
    "## 过滤datasets"
   ]
  },
  {
   "cell_type": "code",
   "execution_count": 5,
   "metadata": {},
   "outputs": [
    {
     "name": "stderr",
     "output_type": "stream",
     "text": [
      "Filter: 100%|██████████| 9600/9600 [00:00<00:00, 343998.07 examples/s]\n",
      "Filter: 100%|██████████| 1200/1200 [00:00<00:00, 80262.24 examples/s]\n",
      "Filter: 100%|██████████| 1200/1200 [00:00<00:00, 96252.98 examples/s]\n"
     ]
    },
    {
     "data": {
      "text/plain": [
       "(DatasetDict({\n",
       "     train: Dataset({\n",
       "         features: ['text', 'label'],\n",
       "         num_rows: 4799\n",
       "     })\n",
       "     validation: Dataset({\n",
       "         features: ['text', 'label'],\n",
       "         num_rows: 593\n",
       "     })\n",
       "     test: Dataset({\n",
       "         features: ['text', 'label'],\n",
       "         num_rows: 608\n",
       "     })\n",
       " }),\n",
       " {'text': '选择珠江花园的原因就是方便，有电动扶梯直接到达海边，周围餐馆、食廊、商场、超市、摊位一应俱全。酒店装修一般，但还算整洁。 泳池在大堂的屋顶，因此很小，不过女儿倒是喜欢。 包的早餐是西式的，还算丰富。 服务吗，一般',\n",
       "  'label': 1})"
      ]
     },
     "execution_count": 5,
     "metadata": {},
     "output_type": "execute_result"
    }
   ],
   "source": [
    "dataset = load_from_disk('dataset/lansinuote/ChnSentiCorp')\n",
    "\n",
    "#过滤数据集\n",
    "f = lambda x: x['label'] == 1\n",
    "\n",
    "dataset = dataset.filter(f)\n",
    "\n",
    "dataset, dataset['train'][0]"
   ]
  },
  {
   "cell_type": "markdown",
   "metadata": {},
   "source": [
    "## Multiple threads data processing\n",
    "\n",
    "- Multi threaded parallel\n",
    "- 可应用在大量数据集场景，其效率优胜 `map()`"
   ]
  },
  {
   "cell_type": "code",
   "execution_count": 7,
   "metadata": {},
   "outputs": [
    {
     "name": "stderr",
     "output_type": "stream",
     "text": [
      "Map (num_proc=2): 100%|██████████| 9600/9600 [00:01<00:00, 4858.85 examples/s]\n",
      "Map (num_proc=2): 100%|██████████| 1200/1200 [00:01<00:00, 664.07 examples/s]\n",
      "Map (num_proc=2): 100%|██████████| 1200/1200 [00:01<00:00, 656.52 examples/s]\n"
     ]
    },
    {
     "data": {
      "text/plain": [
       "(DatasetDict({\n",
       "     train: Dataset({\n",
       "         features: ['text', 'label', 'new_column'],\n",
       "         num_rows: 9600\n",
       "     })\n",
       "     validation: Dataset({\n",
       "         features: ['text', 'label', 'new_column'],\n",
       "         num_rows: 1200\n",
       "     })\n",
       "     test: Dataset({\n",
       "         features: ['text', 'label', 'new_column'],\n",
       "         num_rows: 1200\n",
       "     })\n",
       " }),\n",
       " {'text': '选择珠江花园的原因就是方便，有电动扶梯直接到达海边，周围餐馆、食廊、商场、超市、摊位一应俱全。酒店装修一般，但还算整洁。 泳池在大堂的屋顶，因此很小，不过女儿倒是喜欢。 包的早餐是西式的，还算丰富。 服务吗，一般',\n",
       "  'label': 1,\n",
       "  'new_column': '选择珠江花'})"
      ]
     },
     "execution_count": 7,
     "metadata": {},
     "output_type": "execute_result"
    }
   ],
   "source": [
    "dataset = load_from_disk('dataset/lansinuote/ChnSentiCorp')\n",
    "\n",
    "\n",
    "#map和filter时可以使用批量处理,同时使用多线程并行处理\n",
    "#在某些环境下使用多线程会卡住,出现这种情况时请切换到单线程,num_proc=1\n",
    "def f(data):\n",
    "    data['new_column'] = [i[:5] for i in data['text']]\n",
    "    return data\n",
    "\n",
    "# \"Batch\"指的是一次训练或推理中处理的一组样本。\n",
    "dataset = dataset.map(f, batched=True, batch_size=5, num_proc=2)\n",
    "\n",
    "dataset, dataset['train'][0]"
   ]
  },
  {
   "cell_type": "markdown",
   "metadata": {},
   "source": [
    "## Delete String"
   ]
  },
  {
   "cell_type": "code",
   "execution_count": 8,
   "metadata": {},
   "outputs": [
    {
     "data": {
      "text/plain": [
       "(DatasetDict({\n",
       "     train: Dataset({\n",
       "         features: ['text'],\n",
       "         num_rows: 9600\n",
       "     })\n",
       "     validation: Dataset({\n",
       "         features: ['text'],\n",
       "         num_rows: 1200\n",
       "     })\n",
       "     test: Dataset({\n",
       "         features: ['text'],\n",
       "         num_rows: 1200\n",
       "     })\n",
       " }),\n",
       " {'text': '选择珠江花园的原因就是方便，有电动扶梯直接到达海边，周围餐馆、食廊、商场、超市、摊位一应俱全。酒店装修一般，但还算整洁。 泳池在大堂的屋顶，因此很小，不过女儿倒是喜欢。 包的早餐是西式的，还算丰富。 服务吗，一般'})"
      ]
     },
     "execution_count": 8,
     "metadata": {},
     "output_type": "execute_result"
    }
   ],
   "source": [
    "dataset = load_from_disk('dataset/lansinuote/ChnSentiCorp')\n",
    "\n",
    "#删除字段\n",
    "dataset = dataset.remove_columns(['label'])\n",
    "\n",
    "dataset, dataset['train'][0]"
   ]
  },
  {
   "cell_type": "markdown",
   "metadata": {},
   "source": [
    "## Rename String"
   ]
  },
  {
   "cell_type": "code",
   "execution_count": 9,
   "metadata": {},
   "outputs": [
    {
     "data": {
      "text/plain": [
       "(DatasetDict({\n",
       "     train: Dataset({\n",
       "         features: ['new_text', 'new_label'],\n",
       "         num_rows: 9600\n",
       "     })\n",
       "     validation: Dataset({\n",
       "         features: ['new_text', 'new_label'],\n",
       "         num_rows: 1200\n",
       "     })\n",
       "     test: Dataset({\n",
       "         features: ['new_text', 'new_label'],\n",
       "         num_rows: 1200\n",
       "     })\n",
       " }),\n",
       " {'new_text': '选择珠江花园的原因就是方便，有电动扶梯直接到达海边，周围餐馆、食廊、商场、超市、摊位一应俱全。酒店装修一般，但还算整洁。 泳池在大堂的屋顶，因此很小，不过女儿倒是喜欢。 包的早餐是西式的，还算丰富。 服务吗，一般',\n",
       "  'new_label': 1})"
      ]
     },
     "execution_count": 9,
     "metadata": {},
     "output_type": "execute_result"
    }
   ],
   "source": [
    "dataset = load_from_disk('dataset/lansinuote/ChnSentiCorp')\n",
    "\n",
    "#重命名字段\n",
    "dataset = dataset.rename_columns({'text': 'new_text', 'label': 'new_label'})\n",
    "\n",
    "dataset, dataset['train'][0]"
   ]
  },
  {
   "cell_type": "markdown",
   "metadata": {},
   "source": [
    "## Set data type"
   ]
  },
  {
   "cell_type": "code",
   "execution_count": 10,
   "metadata": {},
   "outputs": [
    {
     "data": {
      "text/plain": [
       "(DatasetDict({\n",
       "     train: Dataset({\n",
       "         features: ['text', 'label'],\n",
       "         num_rows: 9600\n",
       "     })\n",
       "     validation: Dataset({\n",
       "         features: ['text', 'label'],\n",
       "         num_rows: 1200\n",
       "     })\n",
       "     test: Dataset({\n",
       "         features: ['text', 'label'],\n",
       "         num_rows: 1200\n",
       "     })\n",
       " }),\n",
       " {'label': tensor(1),\n",
       "  'text': '选择珠江花园的原因就是方便，有电动扶梯直接到达海边，周围餐馆、食廊、商场、超市、摊位一应俱全。酒店装修一般，但还算整洁。 泳池在大堂的屋顶，因此很小，不过女儿倒是喜欢。 包的早餐是西式的，还算丰富。 服务吗，一般'})"
      ]
     },
     "execution_count": 10,
     "metadata": {},
     "output_type": "execute_result"
    }
   ],
   "source": [
    "dataset = load_from_disk('dataset/lansinuote/ChnSentiCorp')\n",
    "\n",
    "#设置字段的数据类型,可选的有np,pt,tf\n",
    "dataset.set_format('pt', columns=['label'], output_all_columns=True)\n",
    "\n",
    "dataset, dataset['train'][0]"
   ]
  },
  {
   "cell_type": "markdown",
   "metadata": {},
   "source": [
    "## Merge datasets"
   ]
  },
  {
   "cell_type": "code",
   "execution_count": 11,
   "metadata": {},
   "outputs": [
    {
     "data": {
      "text/plain": [
       "(Dataset({\n",
       "     features: ['text', 'label'],\n",
       "     num_rows: 12000\n",
       " }),\n",
       " {'text': '选择珠江花园的原因就是方便，有电动扶梯直接到达海边，周围餐馆、食廊、商场、超市、摊位一应俱全。酒店装修一般，但还算整洁。 泳池在大堂的屋顶，因此很小，不过女儿倒是喜欢。 包的早餐是西式的，还算丰富。 服务吗，一般',\n",
       "  'label': 1})"
      ]
     },
     "execution_count": 11,
     "metadata": {},
     "output_type": "execute_result"
    }
   ],
   "source": [
    "from datasets import concatenate_datasets\n",
    "\n",
    "dataset = load_from_disk('dataset/lansinuote/ChnSentiCorp')\n",
    "\n",
    "#合并多个数据集\n",
    "dataset = concatenate_datasets(list(dataset.values()))\n",
    "\n",
    "dataset, dataset[0]"
   ]
  },
  {
   "cell_type": "markdown",
   "metadata": {},
   "source": [
    "## Split datasets"
   ]
  },
  {
   "cell_type": "code",
   "execution_count": 12,
   "metadata": {},
   "outputs": [
    {
     "data": {
      "text/plain": [
       "(DatasetDict({\n",
       "     train: Dataset({\n",
       "         features: ['text', 'label'],\n",
       "         num_rows: 8640\n",
       "     })\n",
       "     test: Dataset({\n",
       "         features: ['text', 'label'],\n",
       "         num_rows: 960\n",
       "     })\n",
       " }),\n",
       " {'text': '不算是一本很专业的书，但作为日常养生的参考还是不错，有很多从前不知道的保养知识。看了此书对中医养生有了更浓厚的兴趣，当然尤其是能使自己又美丽又健康的法子，正在尝试，但愿有效果。呵呵，现在买了很多花草茶，还有茯苓粉，打算再做种子眼霜。嘻嘻，女人就是爱折腾，只要能让自己变美，就绝不怕麻烦，所以，从这个方面讲，算是本好书吧',\n",
       "  'label': 1})"
      ]
     },
     "execution_count": 12,
     "metadata": {},
     "output_type": "execute_result"
    }
   ],
   "source": [
    "dataset = load_from_disk('dataset/lansinuote/ChnSentiCorp')\n",
    "\n",
    "#切分一个数据集为训练集和测试机,可以指定比例,也可以直接指定数量\n",
    "dataset = dataset['train'].train_test_split(test_size=0.1, train_size=8640)\n",
    "\n",
    "dataset, dataset['train'][0]"
   ]
  },
  {
   "cell_type": "markdown",
   "metadata": {},
   "source": [
    "## Split data subsets"
   ]
  },
  {
   "cell_type": "code",
   "execution_count": 13,
   "metadata": {},
   "outputs": [
    {
     "data": {
      "text/plain": [
       "(Dataset({\n",
       "     features: ['text', 'label'],\n",
       "     num_rows: 4\n",
       " }),\n",
       " {'text': '机器背面似乎被撕了张什么标签，残胶还在。但是又看不出是什么标签不见了，该有的都在，怪', 'label': 0})"
      ]
     },
     "execution_count": 13,
     "metadata": {},
     "output_type": "execute_result"
    }
   ],
   "source": [
    "dataset = load_from_disk('dataset/lansinuote/ChnSentiCorp')\n",
    "\n",
    "#取数据集中的某些数据\n",
    "#[5, 15, 20, 50]表示取第5,15,20,50条数据\n",
    "dataset = dataset['train'].select([5, 15, 20, 50])\n",
    "\n",
    "dataset, dataset[0]"
   ]
  }
 ],
 "metadata": {
  "kernelspec": {
   "display_name": "nlplearn",
   "language": "python",
   "name": "python3"
  },
  "language_info": {
   "codemirror_mode": {
    "name": "ipython",
    "version": 3
   },
   "file_extension": ".py",
   "mimetype": "text/x-python",
   "name": "python",
   "nbconvert_exporter": "python",
   "pygments_lexer": "ipython3",
   "version": "3.11.9"
  }
 },
 "nbformat": 4,
 "nbformat_minor": 2
}
