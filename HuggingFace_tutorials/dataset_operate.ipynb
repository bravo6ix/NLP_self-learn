{
 "cells": [
  {
   "cell_type": "code",
   "execution_count": 1,
   "metadata": {},
   "outputs": [
    {
     "name": "stderr",
     "output_type": "stream",
     "text": [
      "c:\\Users\\Administrator\\anaconda3\\envs\\nlplearn\\Lib\\site-packages\\tqdm\\auto.py:21: TqdmWarning: IProgress not found. Please update jupyter and ipywidgets. See https://ipywidgets.readthedocs.io/en/stable/user_install.html\n",
      "  from .autonotebook import tqdm as notebook_tqdm\n",
      "Downloading metadata: 100%|██████████| 960/960 [00:00<?, ?B/s] \n",
      "Downloading data: 100%|██████████| 2.16M/2.16M [00:00<00:00, 4.03MB/s]\n",
      "Downloading data: 100%|██████████| 276k/276k [00:00<00:00, 1.14MB/s]\n",
      "Downloading data: 100%|██████████| 275k/275k [00:00<00:00, 1.15MB/s]\n",
      "Generating train split: 100%|██████████| 9600/9600 [00:00<00:00, 1131111.82 examples/s]\n",
      "Generating validation split: 100%|██████████| 1200/1200 [00:00<00:00, 1204394.54 examples/s]\n",
      "Generating test split: 100%|██████████| 1200/1200 [00:00<00:00, 815880.18 examples/s]\n"
     ]
    },
    {
     "data": {
      "text/plain": [
       "(DatasetDict({\n",
       "     train: Dataset({\n",
       "         features: ['text', 'label'],\n",
       "         num_rows: 9600\n",
       "     })\n",
       "     validation: Dataset({\n",
       "         features: ['text', 'label'],\n",
       "         num_rows: 1200\n",
       "     })\n",
       "     test: Dataset({\n",
       "         features: ['text', 'label'],\n",
       "         num_rows: 1200\n",
       "     })\n",
       " }),\n",
       " {'text': '选择珠江花园的原因就是方便，有电动扶梯直接到达海边，周围餐馆、食廊、商场、超市、摊位一应俱全。酒店装修一般，但还算整洁。 泳池在大堂的屋顶，因此很小，不过女儿倒是喜欢。 包的早餐是西式的，还算丰富。 服务吗，一般',\n",
       "  'label': 1})"
      ]
     },
     "execution_count": 1,
     "metadata": {},
     "output_type": "execute_result"
    }
   ],
   "source": [
    "from datasets import load_dataset\n",
    "\n",
    "#可用的数据集:https://huggingface.co/datasets\n",
    "\n",
    "#在线加载一个数据集\n",
    "dataset = load_dataset(path='lansinuote/ChnSentiCorp', name=None, split=None)\n",
    "\n",
    "dataset, dataset['train'][0]"
   ]
  }
 ],
 "metadata": {
  "kernelspec": {
   "display_name": "nlplearn",
   "language": "python",
   "name": "python3"
  },
  "language_info": {
   "codemirror_mode": {
    "name": "ipython",
    "version": 3
   },
   "file_extension": ".py",
   "mimetype": "text/x-python",
   "name": "python",
   "nbconvert_exporter": "python",
   "pygments_lexer": "ipython3",
   "version": "3.11.9"
  }
 },
 "nbformat": 4,
 "nbformat_minor": 2
}
